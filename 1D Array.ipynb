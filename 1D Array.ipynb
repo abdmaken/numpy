{
 "cells": [
  {
   "cell_type": "code",
   "execution_count": 4,
   "id": "5bd134fa",
   "metadata": {},
   "outputs": [
    {
     "data": {
      "text/plain": [
       "array([5, 5, 5])"
      ]
     },
     "execution_count": 4,
     "metadata": {},
     "output_type": "execute_result"
    }
   ],
   "source": [
    "import numpy as np\n",
    "a=np.array([5,5,5])\n",
    "a"
   ]
  },
  {
   "cell_type": "code",
   "execution_count": 5,
   "id": "deaa321a",
   "metadata": {},
   "outputs": [
    {
     "data": {
      "text/plain": [
       "numpy.ndarray"
      ]
     },
     "execution_count": 5,
     "metadata": {},
     "output_type": "execute_result"
    }
   ],
   "source": [
    "type(a)"
   ]
  },
  {
   "cell_type": "code",
   "execution_count": 6,
   "id": "cac68d96",
   "metadata": {},
   "outputs": [
    {
     "data": {
      "text/plain": [
       "3"
      ]
     },
     "execution_count": 6,
     "metadata": {},
     "output_type": "execute_result"
    }
   ],
   "source": [
    "len(a)"
   ]
  },
  {
   "cell_type": "code",
   "execution_count": 7,
   "id": "910b6ec8",
   "metadata": {},
   "outputs": [
    {
     "data": {
      "text/plain": [
       "array([5, 5, 5])"
      ]
     },
     "execution_count": 7,
     "metadata": {},
     "output_type": "execute_result"
    }
   ],
   "source": [
    "a[0:]"
   ]
  },
  {
   "cell_type": "code",
   "execution_count": 10,
   "id": "e82bda04",
   "metadata": {},
   "outputs": [
    {
     "data": {
      "text/plain": [
       "array([0., 0.])"
      ]
     },
     "execution_count": 10,
     "metadata": {},
     "output_type": "execute_result"
    }
   ],
   "source": [
    "c=np.zeros(2)\n",
    "c"
   ]
  },
  {
   "cell_type": "code",
   "execution_count": 13,
   "id": "682ba1e4",
   "metadata": {},
   "outputs": [
    {
     "data": {
      "text/plain": [
       "array([1., 1., 1.])"
      ]
     },
     "execution_count": 13,
     "metadata": {},
     "output_type": "execute_result"
    }
   ],
   "source": [
    "d=np.ones(3)\n",
    "d"
   ]
  },
  {
   "cell_type": "code",
   "execution_count": 14,
   "id": "0c00de2c",
   "metadata": {},
   "outputs": [
    {
     "data": {
      "text/plain": [
       "array([1., 1., 1.])"
      ]
     },
     "execution_count": 14,
     "metadata": {},
     "output_type": "execute_result"
    }
   ],
   "source": [
    "e=np.empty(3)\n",
    "e"
   ]
  },
  {
   "cell_type": "code",
   "execution_count": 15,
   "id": "204e56fd",
   "metadata": {},
   "outputs": [
    {
     "data": {
      "text/plain": [
       "array([0, 1, 2, 3, 4, 5, 6, 7, 8])"
      ]
     },
     "execution_count": 15,
     "metadata": {},
     "output_type": "execute_result"
    }
   ],
   "source": [
    "f=np.arange(9)\n",
    "f"
   ]
  },
  {
   "cell_type": "code",
   "execution_count": 17,
   "id": "095e1720",
   "metadata": {},
   "outputs": [
    {
     "data": {
      "text/plain": [
       "array([ 2,  4,  6,  8, 10, 12, 14, 16, 18])"
      ]
     },
     "execution_count": 17,
     "metadata": {},
     "output_type": "execute_result"
    }
   ],
   "source": [
    "g=np.arange(2,20,2)\n",
    "g"
   ]
  },
  {
   "cell_type": "code",
   "execution_count": 18,
   "id": "552673e9",
   "metadata": {},
   "outputs": [
    {
     "data": {
      "text/plain": [
       "array([ 0. ,  2.5,  5. ,  7.5, 10. ])"
      ]
     },
     "execution_count": 18,
     "metadata": {},
     "output_type": "execute_result"
    }
   ],
   "source": [
    "h= np.linspace(0, 10, num=5)\n",
    "h"
   ]
  },
  {
   "cell_type": "code",
   "execution_count": 20,
   "id": "67ebe900",
   "metadata": {},
   "outputs": [
    {
     "data": {
      "text/plain": [
       "array([  0.        ,   0.50251256,   1.00502513,   1.50753769,\n",
       "         2.01005025,   2.51256281,   3.01507538,   3.51758794,\n",
       "         4.0201005 ,   4.52261307,   5.02512563,   5.52763819,\n",
       "         6.03015075,   6.53266332,   7.03517588,   7.53768844,\n",
       "         8.04020101,   8.54271357,   9.04522613,   9.54773869,\n",
       "        10.05025126,  10.55276382,  11.05527638,  11.55778894,\n",
       "        12.06030151,  12.56281407,  13.06532663,  13.5678392 ,\n",
       "        14.07035176,  14.57286432,  15.07537688,  15.57788945,\n",
       "        16.08040201,  16.58291457,  17.08542714,  17.5879397 ,\n",
       "        18.09045226,  18.59296482,  19.09547739,  19.59798995,\n",
       "        20.10050251,  20.60301508,  21.10552764,  21.6080402 ,\n",
       "        22.11055276,  22.61306533,  23.11557789,  23.61809045,\n",
       "        24.12060302,  24.62311558,  25.12562814,  25.6281407 ,\n",
       "        26.13065327,  26.63316583,  27.13567839,  27.63819095,\n",
       "        28.14070352,  28.64321608,  29.14572864,  29.64824121,\n",
       "        30.15075377,  30.65326633,  31.15577889,  31.65829146,\n",
       "        32.16080402,  32.66331658,  33.16582915,  33.66834171,\n",
       "        34.17085427,  34.67336683,  35.1758794 ,  35.67839196,\n",
       "        36.18090452,  36.68341709,  37.18592965,  37.68844221,\n",
       "        38.19095477,  38.69346734,  39.1959799 ,  39.69849246,\n",
       "        40.20100503,  40.70351759,  41.20603015,  41.70854271,\n",
       "        42.21105528,  42.71356784,  43.2160804 ,  43.71859296,\n",
       "        44.22110553,  44.72361809,  45.22613065,  45.72864322,\n",
       "        46.23115578,  46.73366834,  47.2361809 ,  47.73869347,\n",
       "        48.24120603,  48.74371859,  49.24623116,  49.74874372,\n",
       "        50.25125628,  50.75376884,  51.25628141,  51.75879397,\n",
       "        52.26130653,  52.7638191 ,  53.26633166,  53.76884422,\n",
       "        54.27135678,  54.77386935,  55.27638191,  55.77889447,\n",
       "        56.28140704,  56.7839196 ,  57.28643216,  57.78894472,\n",
       "        58.29145729,  58.79396985,  59.29648241,  59.79899497,\n",
       "        60.30150754,  60.8040201 ,  61.30653266,  61.80904523,\n",
       "        62.31155779,  62.81407035,  63.31658291,  63.81909548,\n",
       "        64.32160804,  64.8241206 ,  65.32663317,  65.82914573,\n",
       "        66.33165829,  66.83417085,  67.33668342,  67.83919598,\n",
       "        68.34170854,  68.84422111,  69.34673367,  69.84924623,\n",
       "        70.35175879,  70.85427136,  71.35678392,  71.85929648,\n",
       "        72.36180905,  72.86432161,  73.36683417,  73.86934673,\n",
       "        74.3718593 ,  74.87437186,  75.37688442,  75.87939698,\n",
       "        76.38190955,  76.88442211,  77.38693467,  77.88944724,\n",
       "        78.3919598 ,  78.89447236,  79.39698492,  79.89949749,\n",
       "        80.40201005,  80.90452261,  81.40703518,  81.90954774,\n",
       "        82.4120603 ,  82.91457286,  83.41708543,  83.91959799,\n",
       "        84.42211055,  84.92462312,  85.42713568,  85.92964824,\n",
       "        86.4321608 ,  86.93467337,  87.43718593,  87.93969849,\n",
       "        88.44221106,  88.94472362,  89.44723618,  89.94974874,\n",
       "        90.45226131,  90.95477387,  91.45728643,  91.95979899,\n",
       "        92.46231156,  92.96482412,  93.46733668,  93.96984925,\n",
       "        94.47236181,  94.97487437,  95.47738693,  95.9798995 ,\n",
       "        96.48241206,  96.98492462,  97.48743719,  97.98994975,\n",
       "        98.49246231,  98.99497487,  99.49748744, 100.        ])"
      ]
     },
     "execution_count": 20,
     "metadata": {},
     "output_type": "execute_result"
    }
   ],
   "source": [
    "i= np.linspace(0, 100, num=200)\n",
    "i"
   ]
  },
  {
   "cell_type": "code",
   "execution_count": 22,
   "id": "630873fa",
   "metadata": {},
   "outputs": [
    {
     "data": {
      "text/plain": [
       "array([1, 1, 1, 1, 1], dtype=int8)"
      ]
     },
     "execution_count": 22,
     "metadata": {},
     "output_type": "execute_result"
    }
   ],
   "source": [
    "j= np.ones(5, dtype=np.int8)\n",
    "j"
   ]
  },
  {
   "cell_type": "code",
   "execution_count": 23,
   "id": "8c642ba2",
   "metadata": {
    "scrolled": true
   },
   "outputs": [
    {
     "data": {
      "text/plain": [
       "array([1., 1., 1., 1., 1.])"
      ]
     },
     "execution_count": 23,
     "metadata": {},
     "output_type": "execute_result"
    }
   ],
   "source": [
    "k=np.ones(5, dtype=np.float64)\n",
    "k"
   ]
  },
  {
   "cell_type": "code",
   "execution_count": 24,
   "id": "27152768",
   "metadata": {},
   "outputs": [
    {
     "data": {
      "text/plain": [
       "array([ 2,  3,  4,  5,  6,  7,  8,  9, 10, 11, 12, 13, 14, 15, 16, 17, 18,\n",
       "       19])"
      ]
     },
     "execution_count": 24,
     "metadata": {},
     "output_type": "execute_result"
    }
   ],
   "source": [
    "l= np.arange(2, 20)\n",
    "l"
   ]
  },
  {
   "cell_type": "code",
   "execution_count": 25,
   "id": "322de40f",
   "metadata": {},
   "outputs": [
    {
     "data": {
      "text/plain": [
       "array([ 5, 10, 15, 20, 25, 30, 35, 40, 45, 50])"
      ]
     },
     "execution_count": 25,
     "metadata": {},
     "output_type": "execute_result"
    }
   ],
   "source": [
    "m = np.arange(5, 51, 5)\n",
    "m"
   ]
  },
  {
   "cell_type": "markdown",
   "id": "d071a9a5",
   "metadata": {},
   "source": [
    "# Array Functions"
   ]
  },
  {
   "cell_type": "markdown",
   "id": "7476d112",
   "metadata": {},
   "source": [
    "## if there is one float value in array, entire array's data type will become float"
   ]
  },
  {
   "cell_type": "code",
   "execution_count": 26,
   "id": "29830a7a",
   "metadata": {},
   "outputs": [
    {
     "data": {
      "text/plain": [
       "array([64. , 99. , 63. , 74. ,  5. ,  2.1])"
      ]
     },
     "execution_count": 26,
     "metadata": {},
     "output_type": "execute_result"
    }
   ],
   "source": [
    "\n",
    "a = np.array([64, 99,63,74,5,2.1])\n",
    "a"
   ]
  },
  {
   "cell_type": "markdown",
   "id": "bf50d486",
   "metadata": {},
   "source": [
    "## Sort function"
   ]
  },
  {
   "cell_type": "code",
   "execution_count": 28,
   "id": "4a6b675d",
   "metadata": {},
   "outputs": [
    {
     "data": {
      "text/plain": [
       "array([ 2.1,  5. , 63. , 64. , 74. , 99. ])"
      ]
     },
     "execution_count": 28,
     "metadata": {},
     "output_type": "execute_result"
    }
   ],
   "source": [
    "a.sort()\n",
    "a"
   ]
  },
  {
   "cell_type": "code",
   "execution_count": 29,
   "id": "9551ea0e",
   "metadata": {},
   "outputs": [
    {
     "data": {
      "text/plain": [
       "array([84. , 79. , 69. , 23. , 66. ,  1.1])"
      ]
     },
     "execution_count": 29,
     "metadata": {},
     "output_type": "execute_result"
    }
   ],
   "source": [
    "b = np.array([84, 79,69,23,66,1.1])\n",
    "b"
   ]
  },
  {
   "cell_type": "markdown",
   "id": "bcc53638",
   "metadata": {},
   "source": [
    "## concatenate"
   ]
  },
  {
   "cell_type": "code",
   "execution_count": 35,
   "id": "67e4c2da",
   "metadata": {},
   "outputs": [
    {
     "data": {
      "text/plain": [
       "array([ 2.1,  5. , 63. , 64. , 74. , 99. , 84. , 79. , 69. , 23. , 66. ,\n",
       "        1.1])"
      ]
     },
     "execution_count": 35,
     "metadata": {},
     "output_type": "execute_result"
    }
   ],
   "source": [
    "c =np.concatenate((a, b))\n",
    "c\n"
   ]
  },
  {
   "cell_type": "code",
   "execution_count": 33,
   "id": "feebdeb6",
   "metadata": {},
   "outputs": [
    {
     "data": {
      "text/plain": [
       "array([ 1.1,  2.1,  5. , 23. , 63. , 64. , 66. , 69. , 74. , 79. , 84. ,\n",
       "       99. ])"
      ]
     },
     "execution_count": 33,
     "metadata": {},
     "output_type": "execute_result"
    }
   ],
   "source": [
    "c.sort()\n",
    "c\n"
   ]
  }
 ],
 "metadata": {
  "kernelspec": {
   "display_name": "Python 3 (ipykernel)",
   "language": "python",
   "name": "python3"
  },
  "language_info": {
   "codemirror_mode": {
    "name": "ipython",
    "version": 3
   },
   "file_extension": ".py",
   "mimetype": "text/x-python",
   "name": "python",
   "nbconvert_exporter": "python",
   "pygments_lexer": "ipython3",
   "version": "3.9.7"
  }
 },
 "nbformat": 4,
 "nbformat_minor": 5
}
